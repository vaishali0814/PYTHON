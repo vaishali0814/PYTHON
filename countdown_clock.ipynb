{
  "nbformat": 4,
  "nbformat_minor": 0,
  "metadata": {
    "colab": {
      "provenance": []
    },
    "kernelspec": {
      "name": "python3",
      "display_name": "Python 3"
    },
    "language_info": {
      "name": "python"
    }
  },
  "cells": [
    {
      "cell_type": "code",
      "execution_count": 1,
      "metadata": {
        "colab": {
          "base_uri": "https://localhost:8080/"
        },
        "id": "kvwGMcRBYwdE",
        "outputId": "7a8effb0-6f97-4586-89bb-5891bc58bca7"
      },
      "outputs": [
        {
          "output_type": "stream",
          "name": "stdout",
          "text": [
            "Enter the time in seconds: 60\n",
            "Fire in the hole!!\n"
          ]
        }
      ],
      "source": [
        "# import the time module\n",
        "import time\n",
        "  \n",
        "# define the countdown func.\n",
        "def countdown(t):\n",
        "    \n",
        "    while t:\n",
        "        mins, secs = divmod(t, 60)\n",
        "        timer = '{:02d}:{:02d}'.format(mins, secs)\n",
        "        print(timer, end=\"\\r\")\n",
        "        time.sleep(1)\n",
        "        t -= 1\n",
        "      \n",
        "    print('Fire in the hole!!')\n",
        "  \n",
        "  \n",
        "# input time in seconds\n",
        "t = input(\"Enter the time in seconds: \")\n",
        "  \n",
        "# function call\n",
        "countdown(int(t))"
      ]
    }
  ]
}